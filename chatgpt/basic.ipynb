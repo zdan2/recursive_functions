{
 "cells": [
  {
   "cell_type": "markdown",
   "id": "f05fb6ef",
   "metadata": {},
   "source": [
    "### 11.パスカルの三角形"
   ]
  },
  {
   "cell_type": "code",
   "execution_count": 2,
   "id": "3b379381",
   "metadata": {},
   "outputs": [
    {
     "data": {
      "text/plain": [
       "[1, 9, 36, 84, 126, 126, 84, 36, 9, 1]"
      ]
     },
     "execution_count": 2,
     "metadata": {},
     "output_type": "execute_result"
    }
   ],
   "source": [
    "def pas(n):\n",
    "    if n==1:\n",
    "        return [1]\n",
    "    if n==2:\n",
    "        return [1,1]\n",
    "    a=pas(n-1)\n",
    "    b=[]\n",
    "    for i in range(len(a)-1):\n",
    "        b.append(a[i]+a[i+1])\n",
    "    return [1]+b+[1]\n",
    "pas(10)"
   ]
  },
  {
   "cell_type": "markdown",
   "id": "33afdb65",
   "metadata": {},
   "source": [
    "### 10進数を任意規定に変換（２－３６）"
   ]
  },
  {
   "cell_type": "code",
   "execution_count": 12,
   "id": "0149e3b1",
   "metadata": {},
   "outputs": [
    {
     "data": {
      "text/plain": [
       "'2S'"
      ]
     },
     "execution_count": 12,
     "metadata": {},
     "output_type": "execute_result"
    }
   ],
   "source": [
    "def base_num(num,k):\n",
    "    symbol='0123456789ABCDEFGHIJKLMNOPQRSTUVWXYZ'\n",
    "    if num<k:\n",
    "        return symbol[num]\n",
    "    return base_num(num//k,k)+symbol[num%k]\n",
    "\n",
    "base_num(100,36)"
   ]
  },
  {
   "cell_type": "markdown",
   "id": "22d741a4",
   "metadata": {},
   "source": [
    "数値の桁和を求める"
   ]
  },
  {
   "cell_type": "code",
   "execution_count": 14,
   "id": "017d8697",
   "metadata": {},
   "outputs": [
    {
     "data": {
      "text/plain": [
       "6"
      ]
     },
     "execution_count": 14,
     "metadata": {},
     "output_type": "execute_result"
    }
   ],
   "source": [
    "def add_d(num):\n",
    "    if num<10:\n",
    "        return num\n",
    "    return add_d(num//10)+num%10\n",
    "\n",
    "add_d(123)"
   ]
  },
  {
   "cell_type": "markdown",
   "id": "878c6b69",
   "metadata": {},
   "source": [
    "指数 a^b（累乗）の計算（分割統治）"
   ]
  },
  {
   "cell_type": "code",
   "execution_count": 15,
   "id": "848f2765",
   "metadata": {},
   "outputs": [
    {
     "data": {
      "text/plain": [
       "1024"
      ]
     },
     "execution_count": 15,
     "metadata": {},
     "output_type": "execute_result"
    }
   ],
   "source": [
    "def bunkatsu(a,b):\n",
    "    if b==0:\n",
    "        return 1\n",
    "    if b%2==1:\n",
    "        return a*bunkatsu(a,b//2)*bunkatsu(a,b//2)\n",
    "    else:\n",
    "        return bunkatsu(a,b//2)*bunkatsu(a,b//2)\n",
    "    \n",
    "bunkatsu(2,10)"
   ]
  },
  {
   "cell_type": "markdown",
   "id": "a6b26c52",
   "metadata": {},
   "source": [
    "n 枚ハノイの塔の手順出力（文字のみ）"
   ]
  },
  {
   "cell_type": "code",
   "execution_count": null,
   "id": "147d67f2",
   "metadata": {},
   "outputs": [],
   "source": [
    "def hanoi(n,start,mid,end):\n",
    "    if n==0:\n",
    "        return\n",
    "    hanoi(n-1,start,end,mid)\n",
    "    print(n,start,end)\n",
    "    hanoi(n-1,mid,end,start)\n",
    "        "
   ]
  },
  {
   "cell_type": "code",
   "execution_count": 18,
   "id": "9fb4dbd4",
   "metadata": {},
   "outputs": [
    {
     "name": "stdout",
     "output_type": "stream",
     "text": [
      "1:from start to goal\n",
      "2 from start to middle\n",
      "1:from goal to middle\n",
      "3 from start to goal\n",
      "1:from middle to start\n",
      "2 from middle to goal\n",
      "1:from start to goal\n",
      "4 from start to middle\n",
      "1:from goal to middle\n",
      "2 from goal to start\n",
      "1:from middle to start\n",
      "3 from goal to middle\n",
      "1:from start to goal\n",
      "2 from start to middle\n",
      "1:from goal to middle\n",
      "5 from start to goal\n",
      "1:from middle to start\n",
      "2 from middle to goal\n",
      "1:from start to goal\n",
      "3 from middle to start\n",
      "1:from goal to middle\n",
      "2 from goal to start\n",
      "1:from middle to start\n",
      "4 from middle to goal\n",
      "1:from start to goal\n",
      "2 from start to middle\n",
      "1:from goal to middle\n",
      "3 from start to goal\n",
      "1:from middle to start\n",
      "2 from middle to goal\n",
      "1:from start to goal\n"
     ]
    }
   ],
   "source": [
    "def hanoi(n,s,g,m):\n",
    "    if n==1:\n",
    "        print(f'1:from {s} to {g}')\n",
    "        return\n",
    "    hanoi(n-1,s,m,g)\n",
    "    print(f'{n} from {s} to {g}')\n",
    "    hanoi(n-1,m,g,s)\n",
    "\n",
    "hanoi(5,'start','goal','middle')"
   ]
  },
  {
   "cell_type": "code",
   "execution_count": 42,
   "id": "6df9b7d6",
   "metadata": {},
   "outputs": [
    {
     "data": {
      "text/plain": [
       "{1, 2, 3, 10, 11, 12, 13, 100, 101, 102, 103, 110, 111, 112, 113}"
      ]
     },
     "execution_count": 42,
     "metadata": {},
     "output_type": "execute_result"
    }
   ],
   "source": [
    "def power_set(arr):\n",
    "    if not arr:\n",
    "        return []\n",
    "    f=arr[0]\n",
    "    rem=power_set(arr[1:])\n",
    "    s=set()\n",
    "    s.add(f)\n",
    "    for e in rem:\n",
    "        s.add(f+e)\n",
    "\n",
    "    return s|set(rem)\n",
    "\n",
    "a=[1,2,10,100]\n",
    "power_set(a)\n"
   ]
  },
  {
   "cell_type": "code",
   "execution_count": 45,
   "id": "a51861c4",
   "metadata": {},
   "outputs": [
    {
     "name": "stdout",
     "output_type": "stream",
     "text": [
      "True\n",
      "False\n"
     ]
    }
   ],
   "source": [
    "def pari(s):\n",
    "    if s=='' or len(s)==1:\n",
    "        return True\n",
    "    if s[0]!=s[-1]:\n",
    "        return False\n",
    "    return pari(s[1:-1])\n",
    "\n",
    "s='abccba'\n",
    "print(pari(s))\n",
    "a='1111211'\n",
    "print(pari(a))"
   ]
  },
  {
   "cell_type": "code",
   "execution_count": null,
   "id": "f5069e91",
   "metadata": {},
   "outputs": [],
   "source": []
  }
 ],
 "metadata": {
  "kernelspec": {
   "display_name": "venv",
   "language": "python",
   "name": "python3"
  },
  "language_info": {
   "codemirror_mode": {
    "name": "ipython",
    "version": 3
   },
   "file_extension": ".py",
   "mimetype": "text/x-python",
   "name": "python",
   "nbconvert_exporter": "python",
   "pygments_lexer": "ipython3",
   "version": "3.13.4"
  }
 },
 "nbformat": 4,
 "nbformat_minor": 5
}
