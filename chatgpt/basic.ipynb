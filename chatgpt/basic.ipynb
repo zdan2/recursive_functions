{
 "cells": [
  {
   "cell_type": "markdown",
   "id": "f05fb6ef",
   "metadata": {},
   "source": [
    "### 11.パスカルの三角形"
   ]
  },
  {
   "cell_type": "code",
   "execution_count": 2,
   "id": "3b379381",
   "metadata": {},
   "outputs": [
    {
     "data": {
      "text/plain": [
       "[1, 9, 36, 84, 126, 126, 84, 36, 9, 1]"
      ]
     },
     "execution_count": 2,
     "metadata": {},
     "output_type": "execute_result"
    }
   ],
   "source": [
    "def pas(n):\n",
    "    if n==1:\n",
    "        return [1]\n",
    "    if n==2:\n",
    "        return [1,1]\n",
    "    a=pas(n-1)\n",
    "    b=[]\n",
    "    for i in range(len(a)-1):\n",
    "        b.append(a[i]+a[i+1])\n",
    "    return [1]+b+[1]\n",
    "pas(10)"
   ]
  },
  {
   "cell_type": "markdown",
   "id": "33afdb65",
   "metadata": {},
   "source": [
    "### 10進数を任意規定に変換（２－３６）"
   ]
  },
  {
   "cell_type": "code",
   "execution_count": 12,
   "id": "0149e3b1",
   "metadata": {},
   "outputs": [
    {
     "data": {
      "text/plain": [
       "'2S'"
      ]
     },
     "execution_count": 12,
     "metadata": {},
     "output_type": "execute_result"
    }
   ],
   "source": [
    "def base_num(num,k):\n",
    "    symbol='0123456789ABCDEFGHIJKLMNOPQRSTUVWXYZ'\n",
    "    if num<k:\n",
    "        return symbol[num]\n",
    "    return base_num(num//k,k)+symbol[num%k]\n",
    "\n",
    "base_num(100,36)"
   ]
  },
  {
   "cell_type": "markdown",
   "id": "22d741a4",
   "metadata": {},
   "source": [
    "数値の桁和を求める"
   ]
  },
  {
   "cell_type": "code",
   "execution_count": 14,
   "id": "017d8697",
   "metadata": {},
   "outputs": [
    {
     "data": {
      "text/plain": [
       "6"
      ]
     },
     "execution_count": 14,
     "metadata": {},
     "output_type": "execute_result"
    }
   ],
   "source": [
    "def add_d(num):\n",
    "    if num<10:\n",
    "        return num\n",
    "    return add_d(num//10)+num%10\n",
    "\n",
    "add_d(123)"
   ]
  },
  {
   "cell_type": "markdown",
   "id": "878c6b69",
   "metadata": {},
   "source": [
    "指数 a^b（累乗）の計算（分割統治）"
   ]
  },
  {
   "cell_type": "code",
   "execution_count": 15,
   "id": "848f2765",
   "metadata": {},
   "outputs": [
    {
     "data": {
      "text/plain": [
       "1024"
      ]
     },
     "execution_count": 15,
     "metadata": {},
     "output_type": "execute_result"
    }
   ],
   "source": [
    "def bunkatsu(a,b):\n",
    "    if b==0:\n",
    "        return 1\n",
    "    if b%2==1:\n",
    "        return a*bunkatsu(a,b//2)*bunkatsu(a,b//2)\n",
    "    else:\n",
    "        return bunkatsu(a,b//2)*bunkatsu(a,b//2)\n",
    "    \n",
    "bunkatsu(2,10)"
   ]
  },
  {
   "cell_type": "markdown",
   "id": "a6b26c52",
   "metadata": {},
   "source": [
    "n 枚ハノイの塔の手順出力（文字のみ）"
   ]
  },
  {
   "cell_type": "code",
   "execution_count": 18,
   "id": "9fb4dbd4",
   "metadata": {},
   "outputs": [
    {
     "name": "stdout",
     "output_type": "stream",
     "text": [
      "1:from start to goal\n",
      "2 from start to middle\n",
      "1:from goal to middle\n",
      "3 from start to goal\n",
      "1:from middle to start\n",
      "2 from middle to goal\n",
      "1:from start to goal\n",
      "4 from start to middle\n",
      "1:from goal to middle\n",
      "2 from goal to start\n",
      "1:from middle to start\n",
      "3 from goal to middle\n",
      "1:from start to goal\n",
      "2 from start to middle\n",
      "1:from goal to middle\n",
      "5 from start to goal\n",
      "1:from middle to start\n",
      "2 from middle to goal\n",
      "1:from start to goal\n",
      "3 from middle to start\n",
      "1:from goal to middle\n",
      "2 from goal to start\n",
      "1:from middle to start\n",
      "4 from middle to goal\n",
      "1:from start to goal\n",
      "2 from start to middle\n",
      "1:from goal to middle\n",
      "3 from start to goal\n",
      "1:from middle to start\n",
      "2 from middle to goal\n",
      "1:from start to goal\n"
     ]
    }
   ],
   "source": [
    "def hanoi(n,s,g,m):\n",
    "    if n==1:\n",
    "        print(f'1:from {s} to {g}')\n",
    "        return\n",
    "    hanoi(n-1,s,m,g)\n",
    "    print(f'{n} from {s} to {g}')\n",
    "    hanoi(n-1,m,g,s)\n",
    "\n",
    "hanoi(5,'start','goal','middle')"
   ]
  },
  {
   "cell_type": "code",
   "execution_count": null,
   "id": "6df9b7d6",
   "metadata": {},
   "outputs": [
    {
     "data": {
      "text/plain": [
       "{1, 10, 11, 100, 101, 110, 111}"
      ]
     },
     "execution_count": 49,
     "metadata": {},
     "output_type": "execute_result"
    }
   ],
   "source": [
    "def power_set(arr):\n",
    "    if not arr:\n",
    "        return []\n",
    "    f=arr[0]\n",
    "    rem=power_set(arr[1:])\n",
    "    s=set()\n",
    "    s.add(f)\n",
    "    for e in rem:\n",
    "        s.add(f+e)\n",
    "\n",
    "    return s|set(rem)\n",
    "\n",
    "a=[1,10,100]\n",
    "power_set(a)\n"
   ]
  },
  {
   "cell_type": "code",
   "execution_count": 45,
   "id": "a51861c4",
   "metadata": {},
   "outputs": [
    {
     "name": "stdout",
     "output_type": "stream",
     "text": [
      "True\n",
      "False\n"
     ]
    }
   ],
   "source": [
    "def pari(s):\n",
    "    if s=='' or len(s)==1:\n",
    "        return True\n",
    "    if s[0]!=s[-1]:\n",
    "        return False\n",
    "    return pari(s[1:-1])\n",
    "\n",
    "s='abccba'\n",
    "print(pari(s))\n",
    "a='1111211'\n",
    "print(pari(a))"
   ]
  },
  {
   "cell_type": "markdown",
   "id": "80dd8ea8",
   "metadata": {},
   "source": [
    "バブルソート"
   ]
  },
  {
   "cell_type": "code",
   "execution_count": 48,
   "id": "f5069e91",
   "metadata": {},
   "outputs": [
    {
     "data": {
      "text/plain": [
       "[8, 13, 20, 55, 64, 65, 65, 68, 79, 95]"
      ]
     },
     "execution_count": 48,
     "metadata": {},
     "output_type": "execute_result"
    }
   ],
   "source": [
    "import random\n",
    "import sys\n",
    "\n",
    "\n",
    "def bubble(arr):\n",
    "    if len(arr)==1:\n",
    "        return arr\n",
    "    for i in range(len(arr)-1,0,-1):\n",
    "        if arr[i]<arr[i-1]:\n",
    "            arr[i],arr[i-1]=arr[i-1],arr[i]\n",
    "    return [arr[0]]+bubble(arr[1:])\n",
    "\n",
    "bubble([random.randint(0,100) for _ in range(10)])"
   ]
  },
  {
   "cell_type": "markdown",
   "id": "225da096",
   "metadata": {},
   "source": [
    "クイックソート"
   ]
  },
  {
   "cell_type": "code",
   "execution_count": null,
   "id": "720f19cf",
   "metadata": {},
   "outputs": [
    {
     "name": "stdout",
     "output_type": "stream",
     "text": [
      "3.85 μs ± 41.8 ns per loop (mean ± std. dev. of 7 runs, 100,000 loops each)\n"
     ]
    }
   ],
   "source": [
    "def quick_sort(arr):\n",
    "    if len(arr)==0:\n",
    "        return arr\n",
    "    \n",
    "    pivot=arr[0]\n",
    "    left=[e for e in arr if e<pivot]\n",
    "    mid=[e for e in arr if e==pivot]\n",
    "    right=[e for e in arr if e>pivot]\n",
    "\n",
    "    return quick_sort(left)+mid+quick_sort(right)\n",
    "\n",
    "quick_sort([1,4,2,6,3,8,10,5])"
   ]
  },
  {
   "cell_type": "markdown",
   "id": "4026ccba",
   "metadata": {},
   "source": [
    "マージソート"
   ]
  },
  {
   "cell_type": "code",
   "execution_count": null,
   "id": "85b7e65f",
   "metadata": {},
   "outputs": [
    {
     "data": {
      "text/plain": [
       "[1, 2, 18, 26, 31, 41, 59, 75, 79, 88]"
      ]
     },
     "execution_count": 16,
     "metadata": {},
     "output_type": "execute_result"
    }
   ],
   "source": [
    "def merge_sort(arr):\n",
    "    if len(arr)<=1:\n",
    "        return arr\n",
    "    center=len(arr)//2\n",
    "    r=merged(merge_sort(arr[:center]),merge_sort(arr[center:]))\n",
    "    return r\n",
    "\n",
    "def merged(a,b):\n",
    "    r=[]\n",
    "    while True:\n",
    "        if a and b:\n",
    "            if a[0]<=b[0]:\n",
    "                c=a.pop(0)\n",
    "                r.append(c)\n",
    "            else:\n",
    "                c=b.pop(0)\n",
    "                r.append(c)\n",
    "        elif not a:\n",
    "            r.extend(b)\n",
    "            break\n",
    "        else:\n",
    "            r.extend(a)\n",
    "            break\n",
    "    return r\n",
    "\n",
    "merge_sort([random.randint(0,100) for _ in range(10)])\n"
   ]
  },
  {
   "cell_type": "code",
   "execution_count": 4,
   "id": "32775291",
   "metadata": {},
   "outputs": [
    {
     "name": "stdout",
     "output_type": "stream",
     "text": [
      "[7, 10, 100]\n"
     ]
    },
    {
     "data": {
      "text/plain": [
       "[7, 100]"
      ]
     },
     "execution_count": 4,
     "metadata": {},
     "output_type": "execute_result"
    }
   ],
   "source": [
    "def min_max(arr):\n",
    "    if len(arr)<=1:\n",
    "        return arr\n",
    "    center=len(arr)//2\n",
    "    a=min_max(arr[:center])\n",
    "    b=min_max(arr[center:])\n",
    "    return compare(a,b)\n",
    "\n",
    "def compare(a,b):\n",
    "    if a[0]<b[0]:\n",
    "        s=a[0]\n",
    "    else:\n",
    "        s=b[0]\n",
    "    if a[-1]>b[-1]:\n",
    "        l=a[-1]\n",
    "    else:\n",
    "        l=b[-1]\n",
    "    return [s,l]\n",
    "\n",
    "\n",
    "arr=[7,10,100]\n",
    "print(arr)\n",
    "min_max(arr)  "
   ]
  },
  {
   "cell_type": "code",
   "execution_count": null,
   "id": "1767a80a",
   "metadata": {},
   "outputs": [
    {
     "name": "stdout",
     "output_type": "stream",
     "text": [
      "[7, 10, 100]\n"
     ]
    },
    {
     "ename": "RecursionError",
     "evalue": "maximum recursion depth exceeded",
     "output_type": "error",
     "traceback": [
      "\u001b[31m---------------------------------------------------------------------------\u001b[39m",
      "\u001b[31mRecursionError\u001b[39m                            Traceback (most recent call last)",
      "\u001b[36mCell\u001b[39m\u001b[36m \u001b[39m\u001b[32mIn[8]\u001b[39m\u001b[32m, line 26\u001b[39m\n\u001b[32m     24\u001b[39m arr=[\u001b[32m7\u001b[39m,\u001b[32m10\u001b[39m,\u001b[32m100\u001b[39m]\n\u001b[32m     25\u001b[39m \u001b[38;5;28mprint\u001b[39m(arr)\n\u001b[32m---> \u001b[39m\u001b[32m26\u001b[39m \u001b[43mmin_max2\u001b[49m\u001b[43m(\u001b[49m\u001b[43marr\u001b[49m\u001b[43m)\u001b[49m  \n",
      "\u001b[36mCell\u001b[39m\u001b[36m \u001b[39m\u001b[32mIn[8]\u001b[39m\u001b[32m, line 8\u001b[39m, in \u001b[36mmin_max2\u001b[39m\u001b[34m(arr, l, r)\u001b[39m\n\u001b[32m      6\u001b[39m arr=arr[l:r]\n\u001b[32m      7\u001b[39m center=(l+r)//\u001b[32m2\u001b[39m\n\u001b[32m----> \u001b[39m\u001b[32m8\u001b[39m a=\u001b[43mmin_max2\u001b[49m\u001b[43m(\u001b[49m\u001b[43marr\u001b[49m\u001b[43m,\u001b[49m\u001b[43ml\u001b[49m\u001b[43m,\u001b[49m\u001b[43mcenter\u001b[49m\u001b[43m)\u001b[49m\n\u001b[32m      9\u001b[39m b=min_max2(arr,center,r)\n\u001b[32m     10\u001b[39m \u001b[38;5;28;01mreturn\u001b[39;00m compare(a,b)\n",
      "\u001b[36mCell\u001b[39m\u001b[36m \u001b[39m\u001b[32mIn[8]\u001b[39m\u001b[32m, line 9\u001b[39m, in \u001b[36mmin_max2\u001b[39m\u001b[34m(arr, l, r)\u001b[39m\n\u001b[32m      7\u001b[39m center=(l+r)//\u001b[32m2\u001b[39m\n\u001b[32m      8\u001b[39m a=min_max2(arr,l,center)\n\u001b[32m----> \u001b[39m\u001b[32m9\u001b[39m b=\u001b[43mmin_max2\u001b[49m\u001b[43m(\u001b[49m\u001b[43marr\u001b[49m\u001b[43m,\u001b[49m\u001b[43mcenter\u001b[49m\u001b[43m,\u001b[49m\u001b[43mr\u001b[49m\u001b[43m)\u001b[49m\n\u001b[32m     10\u001b[39m \u001b[38;5;28;01mreturn\u001b[39;00m compare(a,b)\n",
      "\u001b[36mCell\u001b[39m\u001b[36m \u001b[39m\u001b[32mIn[8]\u001b[39m\u001b[32m, line 9\u001b[39m, in \u001b[36mmin_max2\u001b[39m\u001b[34m(arr, l, r)\u001b[39m\n\u001b[32m      7\u001b[39m center=(l+r)//\u001b[32m2\u001b[39m\n\u001b[32m      8\u001b[39m a=min_max2(arr,l,center)\n\u001b[32m----> \u001b[39m\u001b[32m9\u001b[39m b=\u001b[43mmin_max2\u001b[49m\u001b[43m(\u001b[49m\u001b[43marr\u001b[49m\u001b[43m,\u001b[49m\u001b[43mcenter\u001b[49m\u001b[43m,\u001b[49m\u001b[43mr\u001b[49m\u001b[43m)\u001b[49m\n\u001b[32m     10\u001b[39m \u001b[38;5;28;01mreturn\u001b[39;00m compare(a,b)\n",
      "    \u001b[31m[... skipping similar frames: min_max2 at line 9 (2972 times)]\u001b[39m\n",
      "\u001b[36mCell\u001b[39m\u001b[36m \u001b[39m\u001b[32mIn[8]\u001b[39m\u001b[32m, line 9\u001b[39m, in \u001b[36mmin_max2\u001b[39m\u001b[34m(arr, l, r)\u001b[39m\n\u001b[32m      7\u001b[39m center=(l+r)//\u001b[32m2\u001b[39m\n\u001b[32m      8\u001b[39m a=min_max2(arr,l,center)\n\u001b[32m----> \u001b[39m\u001b[32m9\u001b[39m b=\u001b[43mmin_max2\u001b[49m\u001b[43m(\u001b[49m\u001b[43marr\u001b[49m\u001b[43m,\u001b[49m\u001b[43mcenter\u001b[49m\u001b[43m,\u001b[49m\u001b[43mr\u001b[49m\u001b[43m)\u001b[49m\n\u001b[32m     10\u001b[39m \u001b[38;5;28;01mreturn\u001b[39;00m compare(a,b)\n",
      "\u001b[36mCell\u001b[39m\u001b[36m \u001b[39m\u001b[32mIn[8]\u001b[39m\u001b[32m, line 8\u001b[39m, in \u001b[36mmin_max2\u001b[39m\u001b[34m(arr, l, r)\u001b[39m\n\u001b[32m      6\u001b[39m arr=arr[l:r]\n\u001b[32m      7\u001b[39m center=(l+r)//\u001b[32m2\u001b[39m\n\u001b[32m----> \u001b[39m\u001b[32m8\u001b[39m a=\u001b[43mmin_max2\u001b[49m\u001b[43m(\u001b[49m\u001b[43marr\u001b[49m\u001b[43m,\u001b[49m\u001b[43ml\u001b[49m\u001b[43m,\u001b[49m\u001b[43mcenter\u001b[49m\u001b[43m)\u001b[49m\n\u001b[32m      9\u001b[39m b=min_max2(arr,center,r)\n\u001b[32m     10\u001b[39m \u001b[38;5;28;01mreturn\u001b[39;00m compare(a,b)\n",
      "\u001b[31mRecursionError\u001b[39m: maximum recursion depth exceeded"
     ]
    }
   ],
   "source": [
    "def min_max2(arr,l=0,r=None):\n",
    "    if r==None:\n",
    "        r=len(arr)\n",
    "    if l>=r:\n",
    "        return [arr[0]]\n",
    "    center=(l+r)//2\n",
    "    a=min_max2(arr,l,center)\n",
    "    b=min_max2(arr,center,r)\n",
    "    return compare(a,b)\n",
    "\n",
    "def compare(a,b):\n",
    "    if a[0]<b[0]:\n",
    "        s=a[0]\n",
    "    else:\n",
    "        s=b[0]\n",
    "    if a[-1]>b[-1]:\n",
    "        l=a[-1]\n",
    "    else:\n",
    "        l=b[-1]\n",
    "    return [s,l]\n",
    "\n",
    "\n",
    "arr=[7,10,100]\n",
    "print(arr)\n",
    "min_max2(arr)  "
   ]
  },
  {
   "cell_type": "code",
   "execution_count": 52,
   "id": "6729c7c1",
   "metadata": {},
   "outputs": [
    {
     "name": "stdout",
     "output_type": "stream",
     "text": [
      "[34, 32, 16, 57, 30, 39, 48, 6, 62, 92, 66, 3, 52, 6, 59, 6, 29, 94, 3, 84]\n"
     ]
    }
   ],
   "source": [
    "class Node:\n",
    "    def __init__(self,val):\n",
    "        self.val=val\n",
    "        self.left=None\n",
    "        self.right=None\n",
    "\n",
    "def make_tree(node,num):\n",
    "        if node==None:\n",
    "             return Node(num)\n",
    "        if num<node.val:\n",
    "            node.left=make_tree(node.left,num)\n",
    "        else:\n",
    "            node.right=make_tree(node.right,num)\n",
    "        return node\n",
    "\n",
    "arr=[random.randint(0,100) for _ in range(20)]\n",
    "print(arr)\n",
    "root=None\n",
    "for e in arr:\n",
    "     root=make_tree(root,e)    "
   ]
  },
  {
   "cell_type": "code",
   "execution_count": 46,
   "id": "3c2d7ec1",
   "metadata": {},
   "outputs": [
    {
     "data": {
      "text/plain": [
       "6"
      ]
     },
     "execution_count": 46,
     "metadata": {},
     "output_type": "execute_result"
    }
   ],
   "source": [
    "def depth_tree(tree):\n",
    "    if tree is None:\n",
    "        return 0\n",
    "    \n",
    "    left=depth_tree(tree.left)\n",
    "    right=depth_tree(tree.right)\n",
    "\n",
    "    return 1+max(left,right)\n",
    "\n",
    "depth_tree(root)"
   ]
  },
  {
   "cell_type": "code",
   "execution_count": null,
   "id": "5b923843",
   "metadata": {},
   "outputs": [
    {
     "name": "stdout",
     "output_type": "stream",
     "text": [
      "34 0\n",
      "32 1\n",
      "16 2\n",
      "6 3\n",
      "3 4\n",
      "3 5\n",
      "6 4\n",
      "6 5\n",
      "30 3\n",
      "29 4\n",
      "57 1\n",
      "39 2\n",
      "48 3\n",
      "52 4\n",
      "62 2\n",
      "59 3\n",
      "92 3\n",
      "66 4\n",
      "84 5\n",
      "94 4\n"
     ]
    }
   ],
   "source": [
    "def dfs(tree,level=0):\n",
    "    if tree is None:\n",
    "        return\n",
    "    print(tree.val,level)\n",
    "    return dfs(tree.left,level+1) or dfs(tree.right,level+1)\n",
    "\n",
    "dfs(root)"
   ]
  }
 ],
 "metadata": {
  "kernelspec": {
   "display_name": "venv",
   "language": "python",
   "name": "python3"
  },
  "language_info": {
   "codemirror_mode": {
    "name": "ipython",
    "version": 3
   },
   "file_extension": ".py",
   "mimetype": "text/x-python",
   "name": "python",
   "nbconvert_exporter": "python",
   "pygments_lexer": "ipython3",
   "version": "3.12.1"
  }
 },
 "nbformat": 4,
 "nbformat_minor": 5
}
