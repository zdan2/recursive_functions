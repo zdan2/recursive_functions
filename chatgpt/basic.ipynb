{
 "cells": [
  {
   "cell_type": "markdown",
   "id": "f05fb6ef",
   "metadata": {},
   "source": [
    "### 11.パスカルの三角形"
   ]
  },
  {
   "cell_type": "code",
   "execution_count": 22,
   "id": "3b379381",
   "metadata": {},
   "outputs": [
    {
     "data": {
      "text/plain": [
       "[1, 9, 36, 84, 126, 126, 84, 36, 9, 1]"
      ]
     },
     "execution_count": 22,
     "metadata": {},
     "output_type": "execute_result"
    }
   ],
   "source": [
    "def pas(n):\n",
    "    if n==1:\n",
    "        return [1]\n",
    "    if n==2:\n",
    "        return [1,1]\n",
    "    a=pas(n-1)\n",
    "    b=[]\n",
    "    for i in range(len(a)-1):\n",
    "        b.append(a[i]+a[i+1])\n",
    "    return [1]+b+[1]\n",
    "pas(10)"
   ]
  },
  {
   "cell_type": "markdown",
   "id": "33afdb65",
   "metadata": {},
   "source": [
    "### 10進数を任意規定に変換（２－３６）"
   ]
  },
  {
   "cell_type": "code",
   "execution_count": 23,
   "id": "0149e3b1",
   "metadata": {},
   "outputs": [
    {
     "data": {
      "text/plain": [
       "'2S'"
      ]
     },
     "execution_count": 23,
     "metadata": {},
     "output_type": "execute_result"
    }
   ],
   "source": [
    "def base_num(num,k):\n",
    "    symbol='0123456789ABCDEFGHIJKLMNOPQRSTUVWXYZ'\n",
    "    if num<k:\n",
    "        return symbol[num]\n",
    "    return base_num(num//k,k)+symbol[num%k]\n",
    "\n",
    "base_num(100,36)"
   ]
  },
  {
   "cell_type": "markdown",
   "id": "22d741a4",
   "metadata": {},
   "source": [
    "数値の桁和を求める"
   ]
  },
  {
   "cell_type": "code",
   "execution_count": 24,
   "id": "017d8697",
   "metadata": {},
   "outputs": [
    {
     "data": {
      "text/plain": [
       "6"
      ]
     },
     "execution_count": 24,
     "metadata": {},
     "output_type": "execute_result"
    }
   ],
   "source": [
    "def add_d(num):\n",
    "    if num<10:\n",
    "        return num\n",
    "    return add_d(num//10)+num%10\n",
    "\n",
    "add_d(123)"
   ]
  },
  {
   "cell_type": "markdown",
   "id": "878c6b69",
   "metadata": {},
   "source": [
    "指数 a^b（累乗）の計算（分割統治）"
   ]
  },
  {
   "cell_type": "code",
   "execution_count": 25,
   "id": "848f2765",
   "metadata": {},
   "outputs": [
    {
     "data": {
      "text/plain": [
       "1024"
      ]
     },
     "execution_count": 25,
     "metadata": {},
     "output_type": "execute_result"
    }
   ],
   "source": [
    "def bunkatsu(a,b):\n",
    "    if b==0:\n",
    "        return 1\n",
    "    if b%2==1:\n",
    "        return a*bunkatsu(a,b//2)*bunkatsu(a,b//2)\n",
    "    else:\n",
    "        return bunkatsu(a,b//2)*bunkatsu(a,b//2)\n",
    "    \n",
    "bunkatsu(2,10)"
   ]
  },
  {
   "cell_type": "markdown",
   "id": "a6b26c52",
   "metadata": {},
   "source": [
    "n 枚ハノイの塔の手順出力（文字のみ）"
   ]
  },
  {
   "cell_type": "code",
   "execution_count": 26,
   "id": "9fb4dbd4",
   "metadata": {},
   "outputs": [
    {
     "name": "stdout",
     "output_type": "stream",
     "text": [
      "1:from start to goal\n",
      "2 from start to middle\n",
      "1:from goal to middle\n",
      "3 from start to goal\n",
      "1:from middle to start\n",
      "2 from middle to goal\n",
      "1:from start to goal\n",
      "4 from start to middle\n",
      "1:from goal to middle\n",
      "2 from goal to start\n",
      "1:from middle to start\n",
      "3 from goal to middle\n",
      "1:from start to goal\n",
      "2 from start to middle\n",
      "1:from goal to middle\n",
      "5 from start to goal\n",
      "1:from middle to start\n",
      "2 from middle to goal\n",
      "1:from start to goal\n",
      "3 from middle to start\n",
      "1:from goal to middle\n",
      "2 from goal to start\n",
      "1:from middle to start\n",
      "4 from middle to goal\n",
      "1:from start to goal\n",
      "2 from start to middle\n",
      "1:from goal to middle\n",
      "3 from start to goal\n",
      "1:from middle to start\n",
      "2 from middle to goal\n",
      "1:from start to goal\n"
     ]
    }
   ],
   "source": [
    "def hanoi(n,s,g,m):\n",
    "    if n==1:\n",
    "        print(f'1:from {s} to {g}')\n",
    "        return\n",
    "    hanoi(n-1,s,m,g)\n",
    "    print(f'{n} from {s} to {g}')\n",
    "    hanoi(n-1,m,g,s)\n",
    "\n",
    "hanoi(5,'start','goal','middle')"
   ]
  },
  {
   "cell_type": "code",
   "execution_count": 27,
   "id": "6df9b7d6",
   "metadata": {},
   "outputs": [
    {
     "data": {
      "text/plain": [
       "{1, 10, 11, 100, 101, 110, 111}"
      ]
     },
     "execution_count": 27,
     "metadata": {},
     "output_type": "execute_result"
    }
   ],
   "source": [
    "def power_set(arr):\n",
    "    if not arr:\n",
    "        return []\n",
    "    f=arr[0]\n",
    "    rem=power_set(arr[1:])\n",
    "    s=set()\n",
    "    s.add(f)\n",
    "    for e in rem:\n",
    "        s.add(f+e)\n",
    "\n",
    "    return s|set(rem)\n",
    "\n",
    "a=[1,10,100]\n",
    "power_set(a)\n"
   ]
  },
  {
   "cell_type": "code",
   "execution_count": 28,
   "id": "a51861c4",
   "metadata": {},
   "outputs": [
    {
     "name": "stdout",
     "output_type": "stream",
     "text": [
      "True\n",
      "False\n"
     ]
    }
   ],
   "source": [
    "def pari(s):\n",
    "    if s=='' or len(s)==1:\n",
    "        return True\n",
    "    if s[0]!=s[-1]:\n",
    "        return False\n",
    "    return pari(s[1:-1])\n",
    "\n",
    "s='abccba'\n",
    "print(pari(s))\n",
    "a='1111211'\n",
    "print(pari(a))"
   ]
  },
  {
   "cell_type": "markdown",
   "id": "80dd8ea8",
   "metadata": {},
   "source": [
    "バブルソート"
   ]
  },
  {
   "cell_type": "code",
   "execution_count": 29,
   "id": "f5069e91",
   "metadata": {},
   "outputs": [
    {
     "data": {
      "text/plain": [
       "[11, 16, 18, 40, 52, 60, 88, 89, 91, 94]"
      ]
     },
     "execution_count": 29,
     "metadata": {},
     "output_type": "execute_result"
    }
   ],
   "source": [
    "import random\n",
    "import sys\n",
    "\n",
    "\n",
    "def bubble(arr):\n",
    "    if len(arr)==1:\n",
    "        return arr\n",
    "    for i in range(len(arr)-1,0,-1):\n",
    "        if arr[i]<arr[i-1]:\n",
    "            arr[i],arr[i-1]=arr[i-1],arr[i]\n",
    "    return [arr[0]]+bubble(arr[1:])\n",
    "\n",
    "bubble([random.randint(0,100) for _ in range(10)])"
   ]
  },
  {
   "cell_type": "markdown",
   "id": "225da096",
   "metadata": {},
   "source": [
    "クイックソート"
   ]
  },
  {
   "cell_type": "code",
   "execution_count": 30,
   "id": "720f19cf",
   "metadata": {},
   "outputs": [
    {
     "data": {
      "text/plain": [
       "[1, 2, 3, 4, 5, 6, 8, 10]"
      ]
     },
     "execution_count": 30,
     "metadata": {},
     "output_type": "execute_result"
    }
   ],
   "source": [
    "def quick_sort(arr):\n",
    "    if len(arr)==0:\n",
    "        return arr\n",
    "    \n",
    "    pivot=arr[0]\n",
    "    left=[e for e in arr if e<pivot]\n",
    "    mid=[e for e in arr if e==pivot]\n",
    "    right=[e for e in arr if e>pivot]\n",
    "\n",
    "    return quick_sort(left)+mid+quick_sort(right)\n",
    "\n",
    "quick_sort([1,4,2,6,3,8,10,5])"
   ]
  },
  {
   "cell_type": "markdown",
   "id": "4026ccba",
   "metadata": {},
   "source": [
    "マージソート"
   ]
  },
  {
   "cell_type": "code",
   "execution_count": 31,
   "id": "85b7e65f",
   "metadata": {},
   "outputs": [
    {
     "data": {
      "text/plain": [
       "[5, 15, 27, 38, 50, 50, 55, 57, 63, 98]"
      ]
     },
     "execution_count": 31,
     "metadata": {},
     "output_type": "execute_result"
    }
   ],
   "source": [
    "def merge_sort(arr):\n",
    "    if len(arr)<=1:\n",
    "        return arr\n",
    "    center=len(arr)//2\n",
    "    r=merged(merge_sort(arr[:center]),merge_sort(arr[center:]))\n",
    "    return r\n",
    "\n",
    "def merged(a,b):\n",
    "    r=[]\n",
    "    while True:\n",
    "        if a and b:\n",
    "            if a[0]<=b[0]:\n",
    "                c=a.pop(0)\n",
    "                r.append(c)\n",
    "            else:\n",
    "                c=b.pop(0)\n",
    "                r.append(c)\n",
    "        elif not a:\n",
    "            r.extend(b)\n",
    "            break\n",
    "        else:\n",
    "            r.extend(a)\n",
    "            break\n",
    "    return r\n",
    "\n",
    "merge_sort([random.randint(0,100) for _ in range(10)])\n"
   ]
  },
  {
   "cell_type": "code",
<<<<<<< HEAD
   "execution_count": 4,
=======
   "execution_count": 32,
>>>>>>> 29a1c843df081c3b239bafc3e4ba4099ae860fc9
   "id": "32775291",
   "metadata": {},
   "outputs": [
    {
     "name": "stdout",
     "output_type": "stream",
     "text": [
      "[7, 10, 100]\n"
     ]
    },
    {
     "data": {
      "text/plain": [
       "[7, 100]"
      ]
     },
<<<<<<< HEAD
     "execution_count": 4,
=======
     "execution_count": 32,
>>>>>>> 29a1c843df081c3b239bafc3e4ba4099ae860fc9
     "metadata": {},
     "output_type": "execute_result"
    }
   ],
   "source": [
    "def min_max(arr):\n",
    "    if len(arr)<=1:\n",
    "        return arr\n",
    "    center=len(arr)//2\n",
    "    a=min_max(arr[:center])\n",
    "    b=min_max(arr[center:])\n",
    "    return compare(a,b)\n",
    "\n",
    "def compare(a,b):\n",
    "    if a[0]<b[0]:\n",
    "        s=a[0]\n",
    "    else:\n",
    "        s=b[0]\n",
    "    if a[-1]>b[-1]:\n",
    "        l=a[-1]\n",
    "    else:\n",
    "        l=b[-1]\n",
    "    return [s,l]\n",
    "\n",
    "\n",
    "arr=[7,10,100]\n",
    "print(arr)\n",
    "min_max(arr)  "
   ]
  },
  {
   "cell_type": "code",
<<<<<<< HEAD
   "execution_count": null,
=======
   "execution_count": 41,
>>>>>>> 29a1c843df081c3b239bafc3e4ba4099ae860fc9
   "id": "1767a80a",
   "metadata": {},
   "outputs": [
    {
     "name": "stdout",
     "output_type": "stream",
     "text": [
<<<<<<< HEAD
      "[7, 10, 100]\n"
     ]
    },
    {
     "ename": "RecursionError",
     "evalue": "maximum recursion depth exceeded",
     "output_type": "error",
     "traceback": [
      "\u001b[31m---------------------------------------------------------------------------\u001b[39m",
      "\u001b[31mRecursionError\u001b[39m                            Traceback (most recent call last)",
      "\u001b[36mCell\u001b[39m\u001b[36m \u001b[39m\u001b[32mIn[8]\u001b[39m\u001b[32m, line 26\u001b[39m\n\u001b[32m     24\u001b[39m arr=[\u001b[32m7\u001b[39m,\u001b[32m10\u001b[39m,\u001b[32m100\u001b[39m]\n\u001b[32m     25\u001b[39m \u001b[38;5;28mprint\u001b[39m(arr)\n\u001b[32m---> \u001b[39m\u001b[32m26\u001b[39m \u001b[43mmin_max2\u001b[49m\u001b[43m(\u001b[49m\u001b[43marr\u001b[49m\u001b[43m)\u001b[49m  \n",
      "\u001b[36mCell\u001b[39m\u001b[36m \u001b[39m\u001b[32mIn[8]\u001b[39m\u001b[32m, line 8\u001b[39m, in \u001b[36mmin_max2\u001b[39m\u001b[34m(arr, l, r)\u001b[39m\n\u001b[32m      6\u001b[39m arr=arr[l:r]\n\u001b[32m      7\u001b[39m center=(l+r)//\u001b[32m2\u001b[39m\n\u001b[32m----> \u001b[39m\u001b[32m8\u001b[39m a=\u001b[43mmin_max2\u001b[49m\u001b[43m(\u001b[49m\u001b[43marr\u001b[49m\u001b[43m,\u001b[49m\u001b[43ml\u001b[49m\u001b[43m,\u001b[49m\u001b[43mcenter\u001b[49m\u001b[43m)\u001b[49m\n\u001b[32m      9\u001b[39m b=min_max2(arr,center,r)\n\u001b[32m     10\u001b[39m \u001b[38;5;28;01mreturn\u001b[39;00m compare(a,b)\n",
      "\u001b[36mCell\u001b[39m\u001b[36m \u001b[39m\u001b[32mIn[8]\u001b[39m\u001b[32m, line 9\u001b[39m, in \u001b[36mmin_max2\u001b[39m\u001b[34m(arr, l, r)\u001b[39m\n\u001b[32m      7\u001b[39m center=(l+r)//\u001b[32m2\u001b[39m\n\u001b[32m      8\u001b[39m a=min_max2(arr,l,center)\n\u001b[32m----> \u001b[39m\u001b[32m9\u001b[39m b=\u001b[43mmin_max2\u001b[49m\u001b[43m(\u001b[49m\u001b[43marr\u001b[49m\u001b[43m,\u001b[49m\u001b[43mcenter\u001b[49m\u001b[43m,\u001b[49m\u001b[43mr\u001b[49m\u001b[43m)\u001b[49m\n\u001b[32m     10\u001b[39m \u001b[38;5;28;01mreturn\u001b[39;00m compare(a,b)\n",
      "\u001b[36mCell\u001b[39m\u001b[36m \u001b[39m\u001b[32mIn[8]\u001b[39m\u001b[32m, line 9\u001b[39m, in \u001b[36mmin_max2\u001b[39m\u001b[34m(arr, l, r)\u001b[39m\n\u001b[32m      7\u001b[39m center=(l+r)//\u001b[32m2\u001b[39m\n\u001b[32m      8\u001b[39m a=min_max2(arr,l,center)\n\u001b[32m----> \u001b[39m\u001b[32m9\u001b[39m b=\u001b[43mmin_max2\u001b[49m\u001b[43m(\u001b[49m\u001b[43marr\u001b[49m\u001b[43m,\u001b[49m\u001b[43mcenter\u001b[49m\u001b[43m,\u001b[49m\u001b[43mr\u001b[49m\u001b[43m)\u001b[49m\n\u001b[32m     10\u001b[39m \u001b[38;5;28;01mreturn\u001b[39;00m compare(a,b)\n",
      "    \u001b[31m[... skipping similar frames: min_max2 at line 9 (2972 times)]\u001b[39m\n",
      "\u001b[36mCell\u001b[39m\u001b[36m \u001b[39m\u001b[32mIn[8]\u001b[39m\u001b[32m, line 9\u001b[39m, in \u001b[36mmin_max2\u001b[39m\u001b[34m(arr, l, r)\u001b[39m\n\u001b[32m      7\u001b[39m center=(l+r)//\u001b[32m2\u001b[39m\n\u001b[32m      8\u001b[39m a=min_max2(arr,l,center)\n\u001b[32m----> \u001b[39m\u001b[32m9\u001b[39m b=\u001b[43mmin_max2\u001b[49m\u001b[43m(\u001b[49m\u001b[43marr\u001b[49m\u001b[43m,\u001b[49m\u001b[43mcenter\u001b[49m\u001b[43m,\u001b[49m\u001b[43mr\u001b[49m\u001b[43m)\u001b[49m\n\u001b[32m     10\u001b[39m \u001b[38;5;28;01mreturn\u001b[39;00m compare(a,b)\n",
      "\u001b[36mCell\u001b[39m\u001b[36m \u001b[39m\u001b[32mIn[8]\u001b[39m\u001b[32m, line 8\u001b[39m, in \u001b[36mmin_max2\u001b[39m\u001b[34m(arr, l, r)\u001b[39m\n\u001b[32m      6\u001b[39m arr=arr[l:r]\n\u001b[32m      7\u001b[39m center=(l+r)//\u001b[32m2\u001b[39m\n\u001b[32m----> \u001b[39m\u001b[32m8\u001b[39m a=\u001b[43mmin_max2\u001b[49m\u001b[43m(\u001b[49m\u001b[43marr\u001b[49m\u001b[43m,\u001b[49m\u001b[43ml\u001b[49m\u001b[43m,\u001b[49m\u001b[43mcenter\u001b[49m\u001b[43m)\u001b[49m\n\u001b[32m      9\u001b[39m b=min_max2(arr,center,r)\n\u001b[32m     10\u001b[39m \u001b[38;5;28;01mreturn\u001b[39;00m compare(a,b)\n",
      "\u001b[31mRecursionError\u001b[39m: maximum recursion depth exceeded"
     ]
=======
      "[15, 44, 47, 30, 61, 41, 42, 29, 26, 99, 82, 67, 84, 89, 35, 8, 52, 94, 19, 59]\n"
     ]
    },
    {
     "data": {
      "text/plain": [
       "[8, 99]"
      ]
     },
     "execution_count": 41,
     "metadata": {},
     "output_type": "execute_result"
>>>>>>> 29a1c843df081c3b239bafc3e4ba4099ae860fc9
    }
   ],
   "source": [
    "def min_max2(arr,l=0,r=None):\n",
    "    if r==None:\n",
<<<<<<< HEAD
    "        r=len(arr)\n",
    "    if l>=r:\n",
    "        return [arr[0]]\n",
=======
    "        r=len(arr)-1\n",
    "    if r-l<=1:\n",
    "        return [arr[l],arr[r]] \n",
>>>>>>> 29a1c843df081c3b239bafc3e4ba4099ae860fc9
    "    center=(l+r)//2\n",
    "    a=min_max2(arr,l,center)\n",
    "    b=min_max2(arr,center,r)\n",
    "    return compare(a,b)\n",
    "\n",
    "def compare(a,b):\n",
    "    if a[0]<b[0]:\n",
    "        s=a[0]\n",
    "    else:\n",
    "        s=b[0]\n",
    "    if a[-1]>b[-1]:\n",
    "        l=a[-1]\n",
    "    else:\n",
    "        l=b[-1]\n",
    "    return [s,l]\n",
    "\n",
    "\n",
<<<<<<< HEAD
    "arr=[7,10,100]\n",
=======
    "arr=[random.randint(1,100) for _ in range(20)]\n",
>>>>>>> 29a1c843df081c3b239bafc3e4ba4099ae860fc9
    "print(arr)\n",
    "min_max2(arr)  "
   ]
  },
  {
   "cell_type": "code",
   "execution_count": 69,
   "id": "6729c7c1",
   "metadata": {},
   "outputs": [
    {
     "name": "stdout",
     "output_type": "stream",
     "text": [
      "[17, 16, 97, 68, 87, 50, 25, 29, 56, 81, 93, 12, 62, 64, 21, 67, 45, 86, 8, 27]\n"
     ]
    }
   ],
   "source": [
    "class Node:\n",
    "    def __init__(self,val):\n",
    "        self.val=val\n",
    "        self.left=None\n",
    "        self.right=None\n",
    "\n",
    "def make_tree(node,num):\n",
    "        if node==None:\n",
    "             return Node(num)\n",
    "        if num<node.val:\n",
    "            node.left=make_tree(node.left,num)\n",
    "        else:\n",
    "            node.right=make_tree(node.right,num)\n",
    "        return node\n",
    "\n",
    "arr=[random.randint(0,100) for _ in range(20)]\n",
    "print(arr)\n",
    "root=None\n",
    "for e in arr:\n",
    "     root=make_tree(root,e)    "
   ]
  },
  {
   "cell_type": "code",
   "execution_count": 70,
   "id": "3c2d7ec1",
   "metadata": {},
   "outputs": [
    {
     "data": {
      "text/plain": [
       "8"
      ]
     },
     "execution_count": 70,
     "metadata": {},
     "output_type": "execute_result"
    }
   ],
   "source": [
    "def depth_tree(tree):\n",
    "    if tree is None:\n",
    "        return 0\n",
    "    \n",
    "    left=depth_tree(tree.left)\n",
    "    right=depth_tree(tree.right)\n",
    "\n",
    "    return 1+max(left,right)\n",
    "\n",
    "depth_tree(root)"
   ]
  },
  {
   "cell_type": "code",
   "execution_count": null,
   "id": "5b923843",
   "metadata": {},
   "outputs": [],
   "source": [
    "def dfs(tree,level=0):\n",
    "    if tree is None:\n",
    "        return\n",
    "    print(tree.val,level)\n",
    "    return dfs(tree.left,level+1) or dfs(tree.right,level+1)\n",
    "\n",
    "dfs(root)"
   ]
  },
  {
   "cell_type": "code",
   "execution_count": null,
   "id": "eac17377",
   "metadata": {},
   "outputs": [],
   "source": [
    "def pre_dfs(tree):\n",
    "    if tree is None:\n",
    "        return\n",
    "    print(tree.val)\n",
    "    pre_dfs(tree.left)\n",
    "    pre_dfs(tree.right)\n",
    "\n",
    "pre_dfs(root)"
   ]
  },
  {
   "cell_type": "code",
   "execution_count": null,
   "id": "241a843f",
   "metadata": {},
   "outputs": [],
   "source": [
    "def in_dfs(tree):\n",
    "    if tree is None:\n",
    "        return\n",
    "    in_dfs(tree.left)\n",
    "    print(tree.val)\n",
    "    in_dfs(tree.right)\n",
    "\n",
    "in_dfs(root)"
   ]
  },
  {
   "cell_type": "code",
   "execution_count": null,
   "id": "3091136d",
   "metadata": {},
   "outputs": [],
   "source": [
    "def post_dfs(tree):\n",
    "    if tree is None:\n",
    "        return\n",
    "    post_dfs(tree.left)\n",
    "    post_dfs(tree.right)\n",
    "    print(tree.val)\n",
    "\n",
    "post_dfs(root)"
   ]
  },
  {
   "cell_type": "code",
   "execution_count": null,
   "id": "bbef91e9",
   "metadata": {},
   "outputs": [
    {
     "data": {
      "text/plain": [
       "<__main__.Node at 0x22ddfe16a50>"
      ]
     },
     "execution_count": 90,
     "metadata": {},
     "output_type": "execute_result"
    }
   ],
   "source": [
    "def insert_recursive(root: Node | None, key: int) -> Node:\n",
    "    \"\"\"root を根とする BST に key を挿入し、新しい根を返す\"\"\"\n",
    "    if root is None:\n",
    "        return Node(key)               # 挿入位置を見つけたら新ノードを返す\n",
    "\n",
    "    if key < root.val:                 # 小さい → 左部分木へ\n",
    "        root.left = insert_recursive(root.left, key)\n",
    "    elif key > root.val:               # 大きい → 右部分木へ\n",
    "        root.right = insert_recursive(root.right, key)\n",
    "\n",
    "    return root\n",
    "\n",
    "\n",
    "insert_recursive(root,99)"
   ]
  },
  {
   "cell_type": "code",
   "execution_count": null,
   "id": "b3cb0a28",
   "metadata": {},
   "outputs": [
    {
     "data": {
      "text/plain": [
       "[['a', 'b', 'c'],\n",
       " ['a', 'c', 'b'],\n",
       " ['b', 'a', 'c'],\n",
       " ['b', 'c', 'a'],\n",
       " ['c', 'a', 'b'],\n",
       " ['c', 'b', 'a']]"
      ]
     },
     "execution_count": 99,
     "metadata": {},
     "output_type": "execute_result"
    }
   ],
   "source": [
    "def products(arr):\n",
    "    n=len(arr)\n",
    "    used=[False]*n\n",
    "    result=[]\n",
    "\n",
    "    def backtrack(can):\n",
    "        if len(can)==n:\n",
    "            result.append(can[:])\n",
    "            return\n",
    "        for i in range(n):\n",
    "            if used[i]:\n",
    "                continue\n",
    "            used[i]=True\n",
    "            can.append(arr[i])\n",
    "            backtrack(can)\n",
    "            used[i]=False\n",
    "            can.pop()\n",
    "\n",
    "    backtrack([])\n",
    "    return result\n",
    "\n",
    "products(['a','b','c'])\n",
    "    \n",
    "    "
   ]
  },
  {
   "cell_type": "code",
   "execution_count": 195,
   "id": "154b775d",
   "metadata": {},
   "outputs": [
    {
     "name": "stdout",
     "output_type": "stream",
     "text": [
      "###########\n",
      "S     #   #\n",
      "# ### # # #\n",
      "# # #   # #\n",
      "# # ### ###\n",
      "#   #   # #\n",
      "##### ### #\n",
      "#     #   #\n",
      "# # ##### #\n",
      "# #       G\n",
      "###########\n"
     ]
    }
   ],
   "source": [
<<<<<<< HEAD
    "def dfs(tree,level=0):\n",
    "    if tree is None:\n",
    "        return\n",
    "    print(tree.val,level)\n",
    "    return dfs(tree.left,level+1) or dfs(tree.right,level+1)\n",
    "\n",
    "dfs(root)"
=======
    "import random\n",
    "\n",
    "def create_maze(n, m):\n",
    "    \"\"\"\n",
    "    n x m グリッドの迷路を生成する関数 (壁伸ばし法)\n",
    "\n",
    "    Args:\n",
    "        n (int): 迷路の高さ (奇数を推奨)\n",
    "        m (int): 迷路の幅 (奇数を推奨)\n",
    "\n",
    "    Returns:\n",
    "        list[list[str]]: 生成された迷路の2次元配列\n",
    "    \"\"\"\n",
    "    # グリッドの大きさを奇数に調整\n",
    "    height = n if n % 2 != 0 else n + 1\n",
    "    width = m if m % 2 != 0 else m + 1\n",
    "\n",
    "    # '■': 壁, '　': 通路\n",
    "    maze = [['#'] * width for _ in range(height)]\n",
    "\n",
    "    # 奇数行・奇数列を通路にする\n",
    "    for y in range(1, height, 2):\n",
    "        for x in range(1, width, 2):\n",
    "            maze[y][x] = ' '\n",
    "\n",
    "    # 壁を伸ばしていく\n",
    "    for y in range(1, height, 2):\n",
    "        for x in range(1, width, 2):\n",
    "            # (y, x)から伸ばせる壁の方向をランダムに決める\n",
    "            directions = []\n",
    "            if y > 1: directions.append('N') # 北\n",
    "            if y < height - 2: directions.append('S') # 南\n",
    "            if x > 1: directions.append('W') # 西\n",
    "            if x < width - 2: directions.append('E') # 東\n",
    "            \n",
    "            # スタート地点(1,1)以外はランダムに壁を伸ばす\n",
    "            if y == 1 and x == 1:\n",
    "                # (1,1)からは東か南にしか伸ばさない\n",
    "                if 'N' in directions:\n",
    "                    directions.remove('N')\n",
    "                if 'W' in directions: \n",
    "                    directions.discard('W')\n",
    "            \n",
    "            if not directions:\n",
    "                continue\n",
    "\n",
    "            direction = random.choice(directions)\n",
    "\n",
    "            if direction == 'N':\n",
    "                if maze[y - 2][x] == ' ':\n",
    "                    maze[y - 1][x] = ' '\n",
    "            elif direction == 'S':\n",
    "                if maze[y + 2][x] == ' ':\n",
    "                    maze[y + 1][x] = ' '\n",
    "            elif direction == 'W':\n",
    "                if maze[y][x - 2] == ' ':\n",
    "                    maze[y][x - 1] = ' '\n",
    "            elif direction == 'E':\n",
    "                if maze[y][x + 2] == ' ':\n",
    "                    maze[y][x + 1] = ' '\n",
    "    \n",
    "    # スタートとゴールを設定\n",
    "    maze[1][0] = 'S' # スタート\n",
    "    maze[height - 2][width - 1] = 'G' # ゴール\n",
    "\n",
    "    return maze\n",
    "\n",
    "def print_maze(maze):\n",
    "    \"\"\"迷路をコンソールに出力する関数\"\"\"\n",
    "    for row in maze:\n",
    "        print(\"\".join(row))\n",
    "\n",
    "# --- メイン処理 ---\n",
    "if __name__ == '__main__':\n",
    "    height = 10\n",
    "    width = 10\n",
    "    generated_maze=create_maze(height,width)\n",
    "    print_maze(generated_maze)\n"
   ]
  },
  {
   "cell_type": "code",
   "execution_count": 203,
   "id": "258af117",
   "metadata": {},
   "outputs": [
    {
     "name": "stdout",
     "output_type": "stream",
     "text": [
      "None\n"
     ]
    }
   ],
   "source": [
    "def solve_maze(d,s,g):\n",
    "    visited=set()\n",
    "    height=len(d)\n",
    "    width=len(d[0])\n",
    "    dyx=[(0,1),(1,0),(0,-1),(-1,0)]\n",
    "    path=[]\n",
    "\n",
    "    def dfs(now,can):\n",
    "        if now==g:\n",
    "            return can\n",
    "        if now not in visited:\n",
    "            y=now[0]\n",
    "            x=now[1]\n",
    "            for dy,dx in dyx:\n",
    "                ny=y+dy\n",
    "                nx=x+dx\n",
    "                if (ny,nx) in visited:\n",
    "                    continue\n",
    "                if 0<=ny<height and 0<=nx<width and d[ny][nx]!='#': \n",
    "                    visited.add((ny,nx))\n",
    "                    can.append((ny,nx))\n",
    "                    r=dfs((ny,nx),can)\n",
    "                    \n",
    "            can.pop()\n",
    "    r=dfs(s,[])\n",
    "    return r\n",
    "\n",
    "print(solve_maze(generated_maze,(1,0),(8,9)))\n",
    "                \n",
    "        \n",
    "\n"
>>>>>>> 29a1c843df081c3b239bafc3e4ba4099ae860fc9
   ]
  }
 ],
 "metadata": {
  "kernelspec": {
   "display_name": "venv",
   "language": "python",
   "name": "python3"
  },
  "language_info": {
   "codemirror_mode": {
    "name": "ipython",
    "version": 3
   },
   "file_extension": ".py",
   "mimetype": "text/x-python",
   "name": "python",
   "nbconvert_exporter": "python",
   "pygments_lexer": "ipython3",
   "version": "3.12.1"
  }
 },
 "nbformat": 4,
 "nbformat_minor": 5
}
